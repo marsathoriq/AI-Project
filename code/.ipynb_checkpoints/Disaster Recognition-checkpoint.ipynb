{
 "cells": [
  {
   "cell_type": "markdown",
   "metadata": {
    "id": "DKyzH5Op-Byo"
   },
   "source": [
    "# **Disaster Recognition**"
   ]
  },
  {
   "cell_type": "markdown",
   "metadata": {
    "id": "-FgciKAu-IKg"
   },
   "source": [
    "Disaster Recognition digunakan untuk pendeteksian bencana apa yang berhubungan dari tweet seseorang. Task ini merupakan multilabel classification\n"
   ]
  },
  {
   "cell_type": "markdown",
   "metadata": {
    "id": "5-dyczTh-Tqg"
   },
   "source": [
    "Dataset yang digunakan sama dengan task sebelumnya yaitu dari kompetisi kaggle Real or Not? NLP with Disaster Tweets. \n",
    "\n",
    "Dengan bantuan zero shot classifier dari Hugging Face dan pengecekan manual.\n",
    "\n",
    "\n",
    "Contoh data: Landslide kills three near Venice after heavy rain http://t.co/q3Xq8R658r\n"
   ]
  },
  {
   "cell_type": "markdown",
   "metadata": {
    "id": "b1OsEqBBcXjI"
   },
   "source": [
    "# Data Preparation"
   ]
  },
  {
   "cell_type": "markdown",
   "metadata": {
    "id": "UFaH-aLSc60V"
   },
   "source": [
    "## Import library"
   ]
  },
  {
   "cell_type": "code",
   "execution_count": 3,
   "metadata": {
    "id": "HvPTZhNdc80l"
   },
   "outputs": [],
   "source": [
    "import tensorflow as tf\n",
    "assert tf.__version__.startswith('2')\n",
    "\n",
    "import os\n",
    "import numpy as np\n",
    "import pandas as pd\n",
    "import matplotlib.pyplot as plt\n",
    "from IPython.display import clear_output\n",
    "from iterstrat.ml_stratifiers import MultilabelStratifiedShuffleSplit, MultilabelStratifiedKFold\n",
    "from keras.preprocessing.text import Tokenizer\n",
    "from keras.preprocessing.sequence import pad_sequences\n",
    "from sklearn.metrics import accuracy_score,f1_score"
   ]
  },
  {
   "cell_type": "code",
   "execution_count": 4,
   "metadata": {
    "id": "ju8EXO2KvcRe"
   },
   "outputs": [],
   "source": [
    "# Model\n",
    "from sklearn.multiclass import OneVsRestClassifier\n",
    "import xgboost as xgb\n",
    "from sklearn import neighbors\n",
    "import lightgbm as lgb\n",
    "from sklearn.linear_model import LogisticRegression\n",
    "from sklearn.svm import SVC\n",
    "from sklearn.naive_bayes import BernoulliNB"
   ]
  },
  {
   "cell_type": "code",
   "execution_count": 5,
   "metadata": {
    "id": "PtxYl9n33bWh"
   },
   "outputs": [],
   "source": [
    "from keras.layers import Input, Dense, Embedding, Conv2D, MaxPooling2D, Dropout,LSTM, Activation,Bidirectional\n",
    "from keras.layers.core import Reshape, Flatten\n",
    "from keras.models import Model"
   ]
  },
  {
   "cell_type": "code",
   "execution_count": 6,
   "metadata": {
    "colab": {
     "base_uri": "https://localhost:8080/"
    },
    "id": "RfVtDA15pHA7",
    "outputId": "8493f68d-2dc1-4bfe-ab50-2bb69f901984"
   },
   "outputs": [
    {
     "name": "stdout",
     "output_type": "stream",
     "text": [
      "[nltk_data] Downloading package punkt to /root/nltk_data...\n",
      "[nltk_data]   Unzipping tokenizers/punkt.zip.\n",
      "[nltk_data] Downloading package stopwords to /root/nltk_data...\n",
      "[nltk_data]   Unzipping corpora/stopwords.zip.\n"
     ]
    }
   ],
   "source": [
    "import nltk  \n",
    "nltk.download('punkt')\n",
    "nltk.download('stopwords')\n",
    "from nltk.corpus import stopwords\n",
    "import re\n",
    "import string\n",
    "# from transformers import pipeline"
   ]
  },
  {
   "cell_type": "markdown",
   "metadata": {
    "id": "obyvvcaAgNNN"
   },
   "source": [
    "## Load data to dataframe"
   ]
  },
  {
   "cell_type": "code",
   "execution_count": 2,
   "metadata": {
    "id": "ZM3wXfpLenzB"
   },
   "outputs": [],
   "source": [
    "data = pd.read_csv(\"../data/Disaster Recognition/data_disaster.csv\") "
   ]
  },
  {
   "cell_type": "code",
   "execution_count": 4,
   "metadata": {},
   "outputs": [
    {
     "data": {
      "text/html": [
       "<div>\n",
       "<style scoped>\n",
       "    .dataframe tbody tr th:only-of-type {\n",
       "        vertical-align: middle;\n",
       "    }\n",
       "\n",
       "    .dataframe tbody tr th {\n",
       "        vertical-align: top;\n",
       "    }\n",
       "\n",
       "    .dataframe thead th {\n",
       "        text-align: right;\n",
       "    }\n",
       "</style>\n",
       "<table border=\"1\" class=\"dataframe\">\n",
       "  <thead>\n",
       "    <tr style=\"text-align: right;\">\n",
       "      <th></th>\n",
       "      <th>id</th>\n",
       "      <th>keyword</th>\n",
       "      <th>location</th>\n",
       "      <th>text</th>\n",
       "      <th>target</th>\n",
       "      <th>storm</th>\n",
       "      <th>earthquake</th>\n",
       "      <th>flood</th>\n",
       "      <th>landslide</th>\n",
       "      <th>volcano</th>\n",
       "      <th>fires</th>\n",
       "      <th>collapsed</th>\n",
       "      <th>accident</th>\n",
       "      <th>murder</th>\n",
       "    </tr>\n",
       "  </thead>\n",
       "  <tbody>\n",
       "    <tr>\n",
       "      <th>0</th>\n",
       "      <td>1</td>\n",
       "      <td>NaN</td>\n",
       "      <td>NaN</td>\n",
       "      <td>Our Deeds are the Reason of this #earthquake M...</td>\n",
       "      <td>1</td>\n",
       "      <td>0</td>\n",
       "      <td>1</td>\n",
       "      <td>0</td>\n",
       "      <td>0</td>\n",
       "      <td>0</td>\n",
       "      <td>0</td>\n",
       "      <td>1</td>\n",
       "      <td>0</td>\n",
       "      <td>0</td>\n",
       "    </tr>\n",
       "    <tr>\n",
       "      <th>1</th>\n",
       "      <td>4</td>\n",
       "      <td>NaN</td>\n",
       "      <td>NaN</td>\n",
       "      <td>Forest fire near La Ronge Sask. Canada</td>\n",
       "      <td>1</td>\n",
       "      <td>0</td>\n",
       "      <td>0</td>\n",
       "      <td>0</td>\n",
       "      <td>0</td>\n",
       "      <td>0</td>\n",
       "      <td>1</td>\n",
       "      <td>0</td>\n",
       "      <td>0</td>\n",
       "      <td>0</td>\n",
       "    </tr>\n",
       "    <tr>\n",
       "      <th>2</th>\n",
       "      <td>5</td>\n",
       "      <td>NaN</td>\n",
       "      <td>NaN</td>\n",
       "      <td>All residents asked to 'shelter in place' are ...</td>\n",
       "      <td>1</td>\n",
       "      <td>0</td>\n",
       "      <td>0</td>\n",
       "      <td>0</td>\n",
       "      <td>0</td>\n",
       "      <td>0</td>\n",
       "      <td>0</td>\n",
       "      <td>0</td>\n",
       "      <td>0</td>\n",
       "      <td>0</td>\n",
       "    </tr>\n",
       "    <tr>\n",
       "      <th>3</th>\n",
       "      <td>6</td>\n",
       "      <td>NaN</td>\n",
       "      <td>NaN</td>\n",
       "      <td>13,000 people receive #wildfires evacuation or...</td>\n",
       "      <td>1</td>\n",
       "      <td>0</td>\n",
       "      <td>0</td>\n",
       "      <td>0</td>\n",
       "      <td>0</td>\n",
       "      <td>0</td>\n",
       "      <td>1</td>\n",
       "      <td>0</td>\n",
       "      <td>0</td>\n",
       "      <td>0</td>\n",
       "    </tr>\n",
       "    <tr>\n",
       "      <th>4</th>\n",
       "      <td>7</td>\n",
       "      <td>NaN</td>\n",
       "      <td>NaN</td>\n",
       "      <td>Just got sent this photo from Ruby #Alaska as ...</td>\n",
       "      <td>1</td>\n",
       "      <td>0</td>\n",
       "      <td>0</td>\n",
       "      <td>0</td>\n",
       "      <td>0</td>\n",
       "      <td>0</td>\n",
       "      <td>1</td>\n",
       "      <td>0</td>\n",
       "      <td>0</td>\n",
       "      <td>0</td>\n",
       "    </tr>\n",
       "  </tbody>\n",
       "</table>\n",
       "</div>"
      ],
      "text/plain": [
       "   id keyword location                                               text  \\\n",
       "0   1     NaN      NaN  Our Deeds are the Reason of this #earthquake M...   \n",
       "1   4     NaN      NaN             Forest fire near La Ronge Sask. Canada   \n",
       "2   5     NaN      NaN  All residents asked to 'shelter in place' are ...   \n",
       "3   6     NaN      NaN  13,000 people receive #wildfires evacuation or...   \n",
       "4   7     NaN      NaN  Just got sent this photo from Ruby #Alaska as ...   \n",
       "\n",
       "   target  storm  earthquake  flood  landslide  volcano  fires  collapsed  \\\n",
       "0       1      0           1      0          0        0      0          1   \n",
       "1       1      0           0      0          0        0      1          0   \n",
       "2       1      0           0      0          0        0      0          0   \n",
       "3       1      0           0      0          0        0      1          0   \n",
       "4       1      0           0      0          0        0      1          0   \n",
       "\n",
       "   accident  murder  \n",
       "0         0       0  \n",
       "1         0       0  \n",
       "2         0       0  \n",
       "3         0       0  \n",
       "4         0       0  "
      ]
     },
     "execution_count": 4,
     "metadata": {},
     "output_type": "execute_result"
    }
   ],
   "source": [
    "data.head()"
   ]
  },
  {
   "cell_type": "code",
   "execution_count": null,
   "metadata": {
    "id": "eOogftynRPVY"
   },
   "outputs": [],
   "source": [
    "data['labels'] = data.iloc[:,5:].sum(axis=1)"
   ]
  },
  {
   "cell_type": "code",
   "execution_count": null,
   "metadata": {
    "id": "0YuuKWs1OOvv"
   },
   "outputs": [],
   "source": [
    "labels = ['storm','earthquake','flood','landslide','volcano','fires','collapsed','accident','murder']"
   ]
  },
  {
   "cell_type": "markdown",
   "metadata": {
    "id": "1kZV4HiQpVQw"
   },
   "source": [
    "# Preprocessing"
   ]
  },
  {
   "cell_type": "markdown",
   "metadata": {
    "id": "egTXdGjc-bgj"
   },
   "source": [
    "* Lowercase\n",
    "* Hapus Tanda baca (!\"#$%&'()*+,-./:;<=>?@[\\]^_`{|}~)\n",
    "* Hapus tanda \\n dan \\r\n",
    "* Menggunakan Max Length 30\n"
   ]
  },
  {
   "cell_type": "code",
   "execution_count": null,
   "metadata": {
    "id": "yI6oQOEPpW5R"
   },
   "outputs": [],
   "source": [
    "def clean_text(text):\n",
    "    '''Make text lowercase, remove text in square brackets, remove punctuation and remove words containing numbers.'''\n",
    "    text = text.lower()\n",
    "    text = re.sub('\\[.*?\\]', '', text)\n",
    "    text = re.sub('[%s]' % re.escape(string.punctuation), '', text)\n",
    "    text = re.sub('\\w*\\d\\w*', '', text)\n",
    "    text = re.sub('[‘’“”…]', '', text)\n",
    "    text = re.sub('\\n', ' ', text)\n",
    "    text = re.sub('\\r', ' ', text)\n",
    "    return text"
   ]
  },
  {
   "cell_type": "code",
   "execution_count": null,
   "metadata": {
    "id": "rVjLEPWqp6TF"
   },
   "outputs": [],
   "source": [
    "data['text'] = data['text'].apply(clean_text)"
   ]
  },
  {
   "cell_type": "code",
   "execution_count": null,
   "metadata": {
    "id": "LNXn3JcdL2bC"
   },
   "outputs": [],
   "source": [
    "def cekLen(text):\n",
    "  return len(text.split())\n",
    "\n",
    "data['len_text'] = data['text'].apply(cekLen)"
   ]
  },
  {
   "cell_type": "code",
   "execution_count": null,
   "metadata": {
    "colab": {
     "base_uri": "https://localhost:8080/",
     "height": 265
    },
    "id": "n-Q_pl8-L70M",
    "outputId": "18f5db59-dd84-44b4-b3cb-4c2cbbee0b8a"
   },
   "outputs": [
    {
     "data": {
      "image/png": "[encoded data removed]",
      "text/plain": [
       "<Figure size 432x288 with 1 Axes>"
      ]
     },
     "metadata": {
      "needs_background": "light",
      "tags": []
     },
     "output_type": "display_data"
    }
   ],
   "source": [
    "_ = plt.hist(data['len_text'], 20)"
   ]
  },
  {
   "cell_type": "code",
   "execution_count": null,
   "metadata": {
    "id": "CndNT9HdMDX0"
   },
   "outputs": [],
   "source": [
    "tokenizer = Tokenizer()\n",
    "tokenizer.fit_on_texts(data['text'])"
   ]
  },
  {
   "cell_type": "code",
   "execution_count": null,
   "metadata": {
    "id": "iPYexk7B1Vjb"
   },
   "outputs": [],
   "source": [
    "seq_data = tokenizer.texts_to_sequences(data['text'])"
   ]
  },
  {
   "cell_type": "code",
   "execution_count": null,
   "metadata": {
    "id": "-76XetcM1iZf"
   },
   "outputs": [],
   "source": [
    "MAX_LEN = 30\n",
    "X_data = pad_sequences(seq_data,maxlen=MAX_LEN, padding='post')\n",
    "y_data = np.asarray(data[labels])"
   ]
  },
  {
   "cell_type": "markdown",
   "metadata": {
    "id": "mRj4CpBo2Ot1"
   },
   "source": [
    "## Split Data"
   ]
  },
  {
   "cell_type": "code",
   "execution_count": null,
   "metadata": {
    "id": "fwUCxh7T2P-k"
   },
   "outputs": [],
   "source": [
    "msss = MultilabelStratifiedShuffleSplit(n_splits=1, test_size=0.25, random_state=99)\n",
    "for train_index, test_index in msss.split(X_data, y_data):\n",
    "   X_train, X_test = X_data[train_index], X_data[test_index]\n",
    "   y_train, y_test = y_data[train_index], y_data[test_index]"
   ]
  },
  {
   "cell_type": "markdown",
   "metadata": {
    "id": "Mr_72URK2rFd"
   },
   "source": [
    "## Feature Extraction"
   ]
  },
  {
   "cell_type": "markdown",
   "metadata": {
    "id": "gxRUYAl2-lrD"
   },
   "source": [
    "Menggunakan Glove 100d untuk word embeddings\n"
   ]
  },
  {
   "cell_type": "markdown",
   "metadata": {},
   "source": [
    "Download file glove.6B.100d di link https://www.kaggle.com/danielwillgeorge/glove6b100dtxt taruh kedalam folder data/Disaster Recognition"
   ]
  },
  {
   "cell_type": "code",
   "execution_count": 8,
   "metadata": {
    "id": "z2kDElIx2uDG"
   },
   "outputs": [],
   "source": [
    "glove = dict()\n",
    "f = open('../data/Disaster Recognition/glove.6B.100d.txt', encoding=\"utf8\")\n",
    "for line in f:\n",
    "    word_vec = line.split()\n",
    "    word = word_vec[0]\n",
    "    values = np.asarray(word_vec[1:], dtype='float32')\n",
    "    glove[word] = values\n",
    "f.close()"
   ]
  },
  {
   "cell_type": "code",
   "execution_count": null,
   "metadata": {
    "id": "soDsUVKL21HF"
   },
   "outputs": [],
   "source": [
    "EMBEDDING_DIM=100\n",
    "vocabulary_size=len(tokenizer.word_index)+1\n",
    "embedding_matrix = np.zeros((vocabulary_size, EMBEDDING_DIM))"
   ]
  },
  {
   "cell_type": "code",
   "execution_count": null,
   "metadata": {
    "id": "UQHWTBZd3L8w"
   },
   "outputs": [],
   "source": [
    "for word, i in tokenizer.word_index.items():\n",
    "  embedding_vector = glove.get(word,np.zeros(EMBEDDING_DIM))\n",
    "  embedding_matrix[i] = embedding_vector"
   ]
  },
  {
   "cell_type": "markdown",
   "metadata": {
    "id": "1jDx92963PKu"
   },
   "source": [
    "# Modeling"
   ]
  },
  {
   "cell_type": "markdown",
   "metadata": {
    "id": "vhif5nmqfr3E"
   },
   "source": [
    "### CNN"
   ]
  },
  {
   "cell_type": "code",
   "execution_count": null,
   "metadata": {
    "id": "E7Gv3uii3NYL"
   },
   "outputs": [],
   "source": [
    "sequence_length = 30\n",
    "filter_sizes = 5\n",
    "num_filters = 100\n",
    "dropout = 0.3\n",
    "def make_cnn(sequence_length,filter_sizes,num_filters,dropout):\n",
    "  inputs = Input(shape=(sequence_length,))\n",
    "  layer = Embedding(vocabulary_size,EMBEDDING_DIM,weights=[embedding_matrix])(inputs)\n",
    "  layer = Reshape((sequence_length,EMBEDDING_DIM,1))(layer)\n",
    "  layer = Conv2D(num_filters, (filter_sizes, EMBEDDING_DIM),activation='relu')(layer)\n",
    "  layer = MaxPooling2D((2, 1), strides=(2,1))(layer)\n",
    "  layer = Flatten()(layer)\n",
    "  layer = Dense(64, activation=\"linear\")(layer)\n",
    "  layer = Dropout(dropout)(layer)\n",
    "  output = Dense(units=9, activation='sigmoid')(layer)\n",
    "  model = Model(inputs, output)\n",
    "  return model\n",
    "model = make_cnn(sequence_length,filter_sizes,num_filters,dropout)"
   ]
  },
  {
   "cell_type": "markdown",
   "metadata": {
    "id": "WjC8kpcs-u2O"
   },
   "source": [
    "Berikut arsitektur yang digunakan :"
   ]
  },
  {
   "cell_type": "code",
   "execution_count": null,
   "metadata": {
    "colab": {
     "base_uri": "https://localhost:8080/"
    },
    "id": "OLvO9Ik23gg2",
    "outputId": "922c22a5-6e9d-4a9f-cb05-fbaf9d2f803a"
   },
   "outputs": [
    {
     "name": "stdout",
     "output_type": "stream",
     "text": [
      "Model: \"functional_101\"\n",
      "_________________________________________________________________\n",
      "Layer (type)                 Output Shape              Param #   \n",
      "=================================================================\n",
      "input_47 (InputLayer)        [(None, 30)]              0         \n",
      "_________________________________________________________________\n",
      "embedding_46 (Embedding)     (None, 30, 100)           921600    \n",
      "_________________________________________________________________\n",
      "reshape_40 (Reshape)         (None, 30, 100, 1)        0         \n",
      "_________________________________________________________________\n",
      "conv2d_40 (Conv2D)           (None, 26, 1, 100)        50100     \n",
      "_________________________________________________________________\n",
      "max_pooling2d_19 (MaxPooling (None, 13, 1, 100)        0         \n",
      "_________________________________________________________________\n",
      "flatten_40 (Flatten)         (None, 1300)              0         \n",
      "_________________________________________________________________\n",
      "dense_92 (Dense)             (None, 64)                83264     \n",
      "_________________________________________________________________\n",
      "dropout_46 (Dropout)         (None, 64)                0         \n",
      "_________________________________________________________________\n",
      "dense_93 (Dense)             (None, 9)                 585       \n",
      "=================================================================\n",
      "Total params: 1,055,549\n",
      "Trainable params: 1,055,549\n",
      "Non-trainable params: 0\n",
      "_________________________________________________________________\n"
     ]
    }
   ],
   "source": [
    "model.summary()"
   ]
  },
  {
   "cell_type": "markdown",
   "metadata": {
    "id": "DKDOabw--0Fw"
   },
   "source": [
    "Tuning learning rate dengan learning rate scheduler"
   ]
  },
  {
   "cell_type": "code",
   "execution_count": null,
   "metadata": {
    "id": "2vVXsm5B3mJL"
   },
   "outputs": [],
   "source": [
    "lr_schedule = tf.keras.callbacks.LearningRateScheduler(\n",
    "    lambda epoch: 1e-6 * 10**(epoch / 10))\n",
    "model.compile(loss='binary_crossentropy', optimizer=tf.keras.optimizers.Adam(lr=1e-6), metrics=['accuracy'])\n",
    "history = model.fit(X_train, y_train, batch_size=64, epochs=70, callbacks=[lr_schedule],verbose=0)"
   ]
  },
  {
   "cell_type": "code",
   "execution_count": null,
   "metadata": {
    "colab": {
     "base_uri": "https://localhost:8080/",
     "height": 304
    },
    "id": "MXlq28X9Fs6o",
    "outputId": "9db25272-53a4-43af-fa75-d2a9d3673e43"
   },
   "outputs": [
    {
     "data": {
      "text/plain": [
       "(1e-06, 0.1, 0.0, 0.7)"
      ]
     },
     "execution_count": 108,
     "metadata": {
      "tags": []
     },
     "output_type": "execute_result"
    },
    {
     "data": {
      "image/png": "[encoded data removed]",
      "text/plain": [
       "<Figure size 432x288 with 1 Axes>"
      ]
     },
     "metadata": {
      "needs_background": "light",
      "tags": []
     },
     "output_type": "display_data"
    }
   ],
   "source": [
    "plt.xlabel('learning rate')\n",
    "plt.ylabel('loss')\n",
    "plt.semilogx(history.history[\"lr\"], history.history[\"loss\"])\n",
    "plt.axis([1e-6, 1e-1, 0, 0.7])"
   ]
  },
  {
   "cell_type": "code",
   "execution_count": null,
   "metadata": {
    "id": "pmr6UpK8G3Wm"
   },
   "outputs": [],
   "source": [
    "model = make_cnn(sequence_length,filter_sizes,num_filters,dropout)\n",
    "model.compile(loss='binary_crossentropy', optimizer=tf.keras.optimizers.Adam(lr=2*1e-3), metrics=['accuracy'])\n",
    "history = model.fit(X_train, y_train,validation_data=(X_test,y_test), batch_size=64, epochs=20,verbose=0)"
   ]
  },
  {
   "cell_type": "code",
   "execution_count": null,
   "metadata": {
    "colab": {
     "base_uri": "https://localhost:8080/",
     "height": 281
    },
    "id": "8ApTAae5J3JX",
    "outputId": "828c3e0c-66c7-49cf-efc9-818de40f6fb9"
   },
   "outputs": [
    {
     "data": {
      "image/png": "[encoded data removed]",
      "text/plain": [
       "<Figure size 432x288 with 1 Axes>"
      ]
     },
     "metadata": {
      "needs_background": "light",
      "tags": []
     },
     "output_type": "display_data"
    }
   ],
   "source": [
    "import matplotlib.pyplot as plt\n",
    "loss = history.history['loss']\n",
    "val_loss = history.history['val_loss']\n",
    "epochs = range(len(loss))\n",
    "plt.figure()\n",
    "plt.plot(epochs, loss, 'bo', label='Training Loss')\n",
    "plt.plot(epochs, val_loss, 'b', label='Validation Loss')\n",
    "plt.title('Training and validation loss')\n",
    "plt.legend()\n",
    "plt.show()"
   ]
  },
  {
   "cell_type": "code",
   "execution_count": null,
   "metadata": {
    "id": "UC63Q79rN8BC"
   },
   "outputs": [],
   "source": [
    "model = make_cnn(sequence_length,filter_sizes,num_filters,dropout)\n",
    "model.compile(loss='binary_crossentropy', optimizer=tf.keras.optimizers.Adam(lr=2*1e-3), metrics=['accuracy'])\n",
    "history = model.fit(X_train, y_train,validation_data=(X_test,y_test), batch_size=64, epochs=5,verbose=0)"
   ]
  },
  {
   "cell_type": "code",
   "execution_count": null,
   "metadata": {
    "id": "kbZw-NRfbctP"
   },
   "outputs": [],
   "source": [
    "X_pred = model.predict(X_test).round()"
   ]
  },
  {
   "cell_type": "code",
   "execution_count": null,
   "metadata": {
    "id": "dDtcVPb_o73c"
   },
   "outputs": [],
   "source": [
    "def validate(X_pred,y_test):\n",
    "  f1 = []\n",
    "  acc = []\n",
    "  for i in range(9):\n",
    "    f1.append(f1_score(X_pred.T[i], y_test.T[i]))\n",
    "    acc.append(accuracy_score(X_pred.T[i], y_test.T[i]))\n",
    "  return pd.DataFrame({'f1':f1,'acc':acc},index=labels).T"
   ]
  },
  {
   "cell_type": "code",
   "execution_count": null,
   "metadata": {
    "colab": {
     "base_uri": "https://localhost:8080/",
     "height": 111
    },
    "id": "2WgnqetAzXmX",
    "outputId": "2a75fa0e-be3b-4c71-c51f-372388146746"
   },
   "outputs": [
    {
     "data": {
      "text/html": [
       "<div>\n",
       "<style scoped>\n",
       "    .dataframe tbody tr th:only-of-type {\n",
       "        vertical-align: middle;\n",
       "    }\n",
       "\n",
       "    .dataframe tbody tr th {\n",
       "        vertical-align: top;\n",
       "    }\n",
       "\n",
       "    .dataframe thead th {\n",
       "        text-align: right;\n",
       "    }\n",
       "</style>\n",
       "<table border=\"1\" class=\"dataframe\">\n",
       "  <thead>\n",
       "    <tr style=\"text-align: right;\">\n",
       "      <th></th>\n",
       "      <th>storm</th>\n",
       "      <th>earthquake</th>\n",
       "      <th>flood</th>\n",
       "      <th>landslide</th>\n",
       "      <th>volcano</th>\n",
       "      <th>fires</th>\n",
       "      <th>collapsed</th>\n",
       "      <th>accident</th>\n",
       "      <th>murder</th>\n",
       "    </tr>\n",
       "  </thead>\n",
       "  <tbody>\n",
       "    <tr>\n",
       "      <th>f1</th>\n",
       "      <td>0.797101</td>\n",
       "      <td>0.62500</td>\n",
       "      <td>0.5000</td>\n",
       "      <td>0.277778</td>\n",
       "      <td>0.352941</td>\n",
       "      <td>0.784141</td>\n",
       "      <td>0.577540</td>\n",
       "      <td>0.627119</td>\n",
       "      <td>0.656716</td>\n",
       "    </tr>\n",
       "    <tr>\n",
       "      <th>acc</th>\n",
       "      <td>0.931540</td>\n",
       "      <td>0.98533</td>\n",
       "      <td>0.9511</td>\n",
       "      <td>0.968215</td>\n",
       "      <td>0.986553</td>\n",
       "      <td>0.940098</td>\n",
       "      <td>0.903423</td>\n",
       "      <td>0.946210</td>\n",
       "      <td>0.971883</td>\n",
       "    </tr>\n",
       "  </tbody>\n",
       "</table>\n",
       "</div>"
      ],
      "text/plain": [
       "        storm  earthquake   flood  ...  collapsed  accident    murder\n",
       "f1   0.797101     0.62500  0.5000  ...   0.577540  0.627119  0.656716\n",
       "acc  0.931540     0.98533  0.9511  ...   0.903423  0.946210  0.971883\n",
       "\n",
       "[2 rows x 9 columns]"
      ]
     },
     "execution_count": 129,
     "metadata": {
      "tags": []
     },
     "output_type": "execute_result"
    }
   ],
   "source": [
    "val = validate(X_pred,y_test)\n",
    "val"
   ]
  },
  {
   "cell_type": "code",
   "execution_count": null,
   "metadata": {
    "colab": {
     "base_uri": "https://localhost:8080/"
    },
    "id": "s2PV8zx-rY7O",
    "outputId": "114c3aa7-3ecd-4354-f9fe-72fe9a43685c"
   },
   "outputs": [
    {
     "data": {
      "text/plain": [
       "f1     0.577593\n",
       "acc    0.953817\n",
       "dtype: float64"
      ]
     },
     "execution_count": 130,
     "metadata": {
      "tags": []
     },
     "output_type": "execute_result"
    }
   ],
   "source": [
    "val.T.mean()"
   ]
  },
  {
   "cell_type": "markdown",
   "metadata": {
    "id": "1KD-W6l-fvCj"
   },
   "source": [
    "### Bi-LSTM"
   ]
  },
  {
   "cell_type": "code",
   "execution_count": null,
   "metadata": {
    "id": "_jLKxVDRfxvN"
   },
   "outputs": [],
   "source": [
    "sequence_length = 30\n",
    "units = 50\n",
    "dropout = 0.3\n",
    "def make_lstm(sequence_length,units,dropout):\n",
    "  inputs = Input(shape=(sequence_length,))\n",
    "  layer = Embedding(vocabulary_size, EMBEDDING_DIM, weights=[embedding_matrix])(inputs)\n",
    "  layer = Bidirectional(LSTM(units, return_sequences=False))(layer)\n",
    "  layer = Dense(64, activation=\"linear\")(layer)\n",
    "  layer = Dropout(dropout)(layer)\n",
    "  layer = Dense(9, activation=\"sigmoid\")(layer)\n",
    "  model = Model(inputs, layer)\n",
    "  return model\n",
    "model = make_lstm(sequence_length,units,dropout)"
   ]
  },
  {
   "cell_type": "code",
   "execution_count": null,
   "metadata": {
    "colab": {
     "base_uri": "https://localhost:8080/"
    },
    "id": "2AnYBAHzpHmU",
    "outputId": "ee49812a-655e-4554-ce68-b7ba4fafea8b"
   },
   "outputs": [
    {
     "name": "stdout",
     "output_type": "stream",
     "text": [
      "Model: \"functional_9\"\n",
      "_________________________________________________________________\n",
      "Layer (type)                 Output Shape              Param #   \n",
      "=================================================================\n",
      "input_5 (InputLayer)         [(None, 30)]              0         \n",
      "_________________________________________________________________\n",
      "embedding_4 (Embedding)      (None, 30, 100)           921600    \n",
      "_________________________________________________________________\n",
      "bidirectional (Bidirectional (None, 100)               60400     \n",
      "_________________________________________________________________\n",
      "dense_8 (Dense)              (None, 64)                6464      \n",
      "_________________________________________________________________\n",
      "dropout_4 (Dropout)          (None, 64)                0         \n",
      "_________________________________________________________________\n",
      "dense_9 (Dense)              (None, 9)                 585       \n",
      "=================================================================\n",
      "Total params: 989,049\n",
      "Trainable params: 989,049\n",
      "Non-trainable params: 0\n",
      "_________________________________________________________________\n"
     ]
    }
   ],
   "source": [
    "model.summary()"
   ]
  },
  {
   "cell_type": "code",
   "execution_count": null,
   "metadata": {
    "id": "5jjb4A7Lf6vG"
   },
   "outputs": [],
   "source": [
    "model.compile(loss='binary_crossentropy', optimizer=tf.keras.optimizers.Adam(lr=1e-6), metrics=['accuracy'])\n",
    "history = model.fit(X_train, y_train, batch_size=64, epochs=70, callbacks=[lr_schedule],verbose=0)"
   ]
  },
  {
   "cell_type": "code",
   "execution_count": null,
   "metadata": {
    "colab": {
     "base_uri": "https://localhost:8080/",
     "height": 290
    },
    "id": "frSzxrssH4Pi",
    "outputId": "9b964506-d10a-4e77-ce1e-29136f6304d2"
   },
   "outputs": [
    {
     "data": {
      "text/plain": [
       "(1e-06, 0.1, 0.0, 0.7)"
      ]
     },
     "execution_count": 42,
     "metadata": {
      "tags": []
     },
     "output_type": "execute_result"
    },
    {
     "data": {
      "image/png": "[encoded data removed]",
      "text/plain": [
       "<Figure size 432x288 with 1 Axes>"
      ]
     },
     "metadata": {
      "needs_background": "light",
      "tags": []
     },
     "output_type": "display_data"
    }
   ],
   "source": [
    "plt.semilogx(history.history[\"lr\"], history.history[\"loss\"])\n",
    "plt.axis([1e-6, 1e-1, 0, 0.7])"
   ]
  },
  {
   "cell_type": "code",
   "execution_count": null,
   "metadata": {
    "id": "cxbKed6nHN-3"
   },
   "outputs": [],
   "source": [
    "model = make_lstm(sequence_length,units,dropout)\n",
    "model.compile(loss='binary_crossentropy', optimizer=tf.keras.optimizers.Adam(lr=6*1e-3), metrics=['accuracy'])\n",
    "history = model.fit(X_train, y_train, validation_data=(X_test,y_test), batch_size=64, epochs=20,verbose=0)"
   ]
  },
  {
   "cell_type": "code",
   "execution_count": null,
   "metadata": {
    "colab": {
     "base_uri": "https://localhost:8080/",
     "height": 295
    },
    "id": "dhZxB-E8LTBE",
    "outputId": "af114888-ece3-495b-93b3-f339dbb93093"
   },
   "outputs": [
    {
     "data": {
      "image/png": "[encoded data removed]",
      "text/plain": [
       "<Figure size 432x288 with 1 Axes>"
      ]
     },
     "metadata": {
      "needs_background": "light",
      "tags": []
     },
     "output_type": "display_data"
    }
   ],
   "source": [
    "loss = [0.5]+history.history['loss']\n",
    "val_loss = [0.5]+history.history['val_loss']\n",
    "epochs = range(len(loss))\n",
    "plt.figure()\n",
    "plt.plot(epochs, loss, 'bo', label='Training Loss')\n",
    "plt.plot(epochs, val_loss, 'b', label='Validation Loss')\n",
    "plt.title('Training and validation loss')\n",
    "plt.xlabel('epochs')\n",
    "plt.ylabel('loss')\n",
    "plt.legend()\n",
    "plt.show()"
   ]
  },
  {
   "cell_type": "code",
   "execution_count": null,
   "metadata": {
    "id": "N7MfjZ8TPvdR"
   },
   "outputs": [],
   "source": [
    "model = make_lstm(sequence_length,units,dropout)\n",
    "model.compile(loss='binary_crossentropy', optimizer=tf.keras.optimizers.Adam(lr=6*1e-3), metrics=['accuracy'])\n",
    "history = model.fit(X_train, y_train, validation_data=(X_test,y_test), batch_size=64, epochs=5,verbose=0)"
   ]
  },
  {
   "cell_type": "code",
   "execution_count": null,
   "metadata": {
    "id": "1QPdEq31gLAK"
   },
   "outputs": [],
   "source": [
    "X_pred = model.predict(X_test).round()"
   ]
  },
  {
   "cell_type": "code",
   "execution_count": null,
   "metadata": {
    "colab": {
     "base_uri": "https://localhost:8080/",
     "height": 111
    },
    "id": "Vy0thQ0pnLdo",
    "outputId": "accfa5a8-68c7-4cbb-bd72-4504ed3d23d5"
   },
   "outputs": [
    {
     "data": {
      "text/html": [
       "<div>\n",
       "<style scoped>\n",
       "    .dataframe tbody tr th:only-of-type {\n",
       "        vertical-align: middle;\n",
       "    }\n",
       "\n",
       "    .dataframe tbody tr th {\n",
       "        vertical-align: top;\n",
       "    }\n",
       "\n",
       "    .dataframe thead th {\n",
       "        text-align: right;\n",
       "    }\n",
       "</style>\n",
       "<table border=\"1\" class=\"dataframe\">\n",
       "  <thead>\n",
       "    <tr style=\"text-align: right;\">\n",
       "      <th></th>\n",
       "      <th>storm</th>\n",
       "      <th>earthquake</th>\n",
       "      <th>flood</th>\n",
       "      <th>landslide</th>\n",
       "      <th>volcano</th>\n",
       "      <th>fires</th>\n",
       "      <th>collapsed</th>\n",
       "      <th>accident</th>\n",
       "      <th>murder</th>\n",
       "    </tr>\n",
       "  </thead>\n",
       "  <tbody>\n",
       "    <tr>\n",
       "      <th>f1</th>\n",
       "      <td>0.786765</td>\n",
       "      <td>0.666667</td>\n",
       "      <td>0.604651</td>\n",
       "      <td>0.333333</td>\n",
       "      <td>0.60000</td>\n",
       "      <td>0.834783</td>\n",
       "      <td>0.631068</td>\n",
       "      <td>0.62500</td>\n",
       "      <td>0.647887</td>\n",
       "    </tr>\n",
       "    <tr>\n",
       "      <th>acc</th>\n",
       "      <td>0.929095</td>\n",
       "      <td>0.985330</td>\n",
       "      <td>0.958435</td>\n",
       "      <td>0.970660</td>\n",
       "      <td>0.99022</td>\n",
       "      <td>0.953545</td>\n",
       "      <td>0.907090</td>\n",
       "      <td>0.94132</td>\n",
       "      <td>0.969438</td>\n",
       "    </tr>\n",
       "  </tbody>\n",
       "</table>\n",
       "</div>"
      ],
      "text/plain": [
       "        storm  earthquake     flood  ...  collapsed  accident    murder\n",
       "f1   0.786765    0.666667  0.604651  ...   0.631068   0.62500  0.647887\n",
       "acc  0.929095    0.985330  0.958435  ...   0.907090   0.94132  0.969438\n",
       "\n",
       "[2 rows x 9 columns]"
      ]
     },
     "execution_count": 134,
     "metadata": {
      "tags": []
     },
     "output_type": "execute_result"
    }
   ],
   "source": [
    "val = validate(X_pred,y_test)\n",
    "val"
   ]
  },
  {
   "cell_type": "code",
   "execution_count": null,
   "metadata": {
    "colab": {
     "base_uri": "https://localhost:8080/"
    },
    "id": "J6DLrCu_qC5V",
    "outputId": "6a6cb4f8-68a1-4e7a-f221-0ff80fedb086"
   },
   "outputs": [
    {
     "data": {
      "text/plain": [
       "f1     0.636684\n",
       "acc    0.956126\n",
       "dtype: float64"
      ]
     },
     "execution_count": 135,
     "metadata": {
      "tags": []
     },
     "output_type": "execute_result"
    }
   ],
   "source": [
    "val.T.mean()"
   ]
  },
  {
   "cell_type": "markdown",
   "metadata": {
    "id": "NiZ0KwSJpRIs"
   },
   "source": [
    "### CNN + Bi-LSTM"
   ]
  },
  {
   "cell_type": "code",
   "execution_count": null,
   "metadata": {
    "id": "xBZARZUypZtN"
   },
   "outputs": [],
   "source": [
    "sequence_length = 30\n",
    "units = 50\n",
    "dropout = 0.3\n",
    "filter_sizes = 4\n",
    "num_filters = 100\n",
    "def make_lstm_cnn(sequence_length,units,dropout):\n",
    "  inputs = Input(shape=(sequence_length,))\n",
    "  layer = Embedding(vocabulary_size, EMBEDDING_DIM, weights=[embedding_matrix])(inputs)\n",
    "  layer = Bidirectional(LSTM(units, return_sequences=True))(layer)\n",
    "  layer = Reshape((-1,units*2,1))(layer)\n",
    "  layer = Conv2D(num_filters, (filter_sizes, units*2),activation='relu')(layer)\n",
    "  layer = Flatten()(layer)\n",
    "  layer = Dense(64, activation=\"linear\")(layer)\n",
    "  layer = Dropout(dropout)(layer)\n",
    "  layer = Dense(9, activation=\"sigmoid\")(layer)\n",
    "  model = Model(inputs, layer)\n",
    "  return model\n",
    "model = make_lstm_cnn(sequence_length,units,dropout)\n"
   ]
  },
  {
   "cell_type": "code",
   "execution_count": null,
   "metadata": {
    "colab": {
     "base_uri": "https://localhost:8080/"
    },
    "id": "yzzggXxNpkP6",
    "outputId": "8c974a9f-a5fd-4f0b-bf8d-1648a4d70ec2"
   },
   "outputs": [
    {
     "name": "stdout",
     "output_type": "stream",
     "text": [
      "Model: \"functional_95\"\n",
      "_________________________________________________________________\n",
      "Layer (type)                 Output Shape              Param #   \n",
      "=================================================================\n",
      "input_45 (InputLayer)        [(None, 30)]              0         \n",
      "_________________________________________________________________\n",
      "embedding_44 (Embedding)     (None, 30, 100)           921600    \n",
      "_________________________________________________________________\n",
      "bidirectional_25 (Bidirectio (None, 30, 100)           60400     \n",
      "_________________________________________________________________\n",
      "reshape_38 (Reshape)         (None, 30, 100, 1)        0         \n",
      "_________________________________________________________________\n",
      "conv2d_38 (Conv2D)           (None, 27, 1, 100)        40100     \n",
      "_________________________________________________________________\n",
      "flatten_38 (Flatten)         (None, 2700)              0         \n",
      "_________________________________________________________________\n",
      "dense_88 (Dense)             (None, 64)                172864    \n",
      "_________________________________________________________________\n",
      "dropout_44 (Dropout)         (None, 64)                0         \n",
      "_________________________________________________________________\n",
      "dense_89 (Dense)             (None, 9)                 585       \n",
      "=================================================================\n",
      "Total params: 1,195,549\n",
      "Trainable params: 1,195,549\n",
      "Non-trainable params: 0\n",
      "_________________________________________________________________\n"
     ]
    }
   ],
   "source": [
    "model.summary()"
   ]
  },
  {
   "cell_type": "code",
   "execution_count": null,
   "metadata": {
    "id": "ecaX4MqNtVNu"
   },
   "outputs": [],
   "source": [
    "model.compile(loss='binary_crossentropy', optimizer=tf.keras.optimizers.Adam(lr=1e-6), metrics=['accuracy'])\n",
    "history = model.fit(X_train, y_train, batch_size=64, epochs=70, callbacks=[lr_schedule],verbose=0)"
   ]
  },
  {
   "cell_type": "code",
   "execution_count": null,
   "metadata": {
    "colab": {
     "base_uri": "https://localhost:8080/",
     "height": 290
    },
    "id": "xapgB-C-IVdW",
    "outputId": "624f844d-f561-4131-d7fe-3547c27a3f21"
   },
   "outputs": [
    {
     "data": {
      "text/plain": [
       "(1e-06, 0.1, 0.0, 0.7)"
      ]
     },
     "execution_count": 50,
     "metadata": {
      "tags": []
     },
     "output_type": "execute_result"
    },
    {
     "data": {
      "image/png": "[encoded data removed]",
      "text/plain": [
       "<Figure size 432x288 with 1 Axes>"
      ]
     },
     "metadata": {
      "needs_background": "light",
      "tags": []
     },
     "output_type": "display_data"
    }
   ],
   "source": [
    "plt.semilogx(history.history[\"lr\"], history.history[\"loss\"])\n",
    "plt.axis([1e-6, 1e-1, 0, 0.7])"
   ]
  },
  {
   "cell_type": "code",
   "execution_count": null,
   "metadata": {
    "id": "KH6p43wPP6yp"
   },
   "outputs": [],
   "source": [
    "model = make_lstm_cnn(sequence_length,units,dropout)\n",
    "model.compile(loss='binary_crossentropy', optimizer=tf.keras.optimizers.Adam(lr=2*1e-3), metrics=['accuracy'])\n",
    "history = model.fit(X_train, y_train,validation_data=(X_test,y_test), batch_size=64, epochs=20,verbose=0)"
   ]
  },
  {
   "cell_type": "code",
   "execution_count": null,
   "metadata": {
    "colab": {
     "base_uri": "https://localhost:8080/",
     "height": 295
    },
    "id": "7DY8cfX5P6yy",
    "outputId": "bf246754-5d65-4bdc-e118-77e890673450"
   },
   "outputs": [
    {
     "data": {
      "image/png": "[encoded data removed]",
      "text/plain": [
       "<Figure size 432x288 with 1 Axes>"
      ]
     },
     "metadata": {
      "needs_background": "light",
      "tags": []
     },
     "output_type": "display_data"
    }
   ],
   "source": [
    "loss = [0.5]+history.history['loss']\n",
    "val_loss = [0.5]+history.history['val_loss']\n",
    "epochs = range(len(loss))\n",
    "plt.figure()\n",
    "plt.plot(epochs, loss, 'bo', label='Training Loss')\n",
    "plt.plot(epochs, val_loss, 'b', label='Validation Loss')\n",
    "plt.title('Training and validation loss')\n",
    "plt.xlabel('epochs')\n",
    "plt.ylabel('loss')\n",
    "plt.legend()\n",
    "plt.show()"
   ]
  },
  {
   "cell_type": "code",
   "execution_count": null,
   "metadata": {
    "id": "XrO6cS8-HTM7"
   },
   "outputs": [],
   "source": [
    "model = make_lstm_cnn(sequence_length,units,dropout)\n",
    "model.compile(loss='binary_crossentropy', optimizer=tf.keras.optimizers.Adam(lr=2*1e-3), metrics=['accuracy'])\n",
    "history = model.fit(X_train, y_train,validation_data=(X_test,y_test), batch_size=64, epochs=7,verbose=0)"
   ]
  },
  {
   "cell_type": "code",
   "execution_count": null,
   "metadata": {
    "id": "qVbFPl6huprA"
   },
   "outputs": [],
   "source": [
    "X_pred = model.predict(X_test).round()"
   ]
  },
  {
   "cell_type": "code",
   "execution_count": null,
   "metadata": {
    "colab": {
     "base_uri": "https://localhost:8080/",
     "height": 111
    },
    "id": "TXsFzrHKutH5",
    "outputId": "7855b1bb-ecc0-4f86-92e1-2ce271fc5126"
   },
   "outputs": [
    {
     "data": {
      "text/html": [
       "<div>\n",
       "<style scoped>\n",
       "    .dataframe tbody tr th:only-of-type {\n",
       "        vertical-align: middle;\n",
       "    }\n",
       "\n",
       "    .dataframe tbody tr th {\n",
       "        vertical-align: top;\n",
       "    }\n",
       "\n",
       "    .dataframe thead th {\n",
       "        text-align: right;\n",
       "    }\n",
       "</style>\n",
       "<table border=\"1\" class=\"dataframe\">\n",
       "  <thead>\n",
       "    <tr style=\"text-align: right;\">\n",
       "      <th></th>\n",
       "      <th>storm</th>\n",
       "      <th>earthquake</th>\n",
       "      <th>flood</th>\n",
       "      <th>landslide</th>\n",
       "      <th>volcano</th>\n",
       "      <th>fires</th>\n",
       "      <th>collapsed</th>\n",
       "      <th>accident</th>\n",
       "      <th>murder</th>\n",
       "    </tr>\n",
       "  </thead>\n",
       "  <tbody>\n",
       "    <tr>\n",
       "      <th>f1</th>\n",
       "      <td>0.791045</td>\n",
       "      <td>0.702703</td>\n",
       "      <td>0.611765</td>\n",
       "      <td>0.400000</td>\n",
       "      <td>0.571429</td>\n",
       "      <td>0.835443</td>\n",
       "      <td>0.656085</td>\n",
       "      <td>0.705036</td>\n",
       "      <td>0.673469</td>\n",
       "    </tr>\n",
       "    <tr>\n",
       "      <th>acc</th>\n",
       "      <td>0.931540</td>\n",
       "      <td>0.986553</td>\n",
       "      <td>0.959658</td>\n",
       "      <td>0.966993</td>\n",
       "      <td>0.988998</td>\n",
       "      <td>0.952323</td>\n",
       "      <td>0.920538</td>\n",
       "      <td>0.949878</td>\n",
       "      <td>0.960880</td>\n",
       "    </tr>\n",
       "  </tbody>\n",
       "</table>\n",
       "</div>"
      ],
      "text/plain": [
       "        storm  earthquake     flood  ...  collapsed  accident    murder\n",
       "f1   0.791045    0.702703  0.611765  ...   0.656085  0.705036  0.673469\n",
       "acc  0.931540    0.986553  0.959658  ...   0.920538  0.949878  0.960880\n",
       "\n",
       "[2 rows x 9 columns]"
      ]
     },
     "execution_count": 350,
     "metadata": {
      "tags": []
     },
     "output_type": "execute_result"
    }
   ],
   "source": [
    "val = validate(X_pred,y_test)\n",
    "val"
   ]
  },
  {
   "cell_type": "code",
   "execution_count": null,
   "metadata": {
    "colab": {
     "base_uri": "https://localhost:8080/"
    },
    "id": "ovtoel-xuuwR",
    "outputId": "159f5b90-54f0-4b9b-d74b-99f4c76f5bd7"
   },
   "outputs": [
    {
     "data": {
      "text/plain": [
       "f1     0.660775\n",
       "acc    0.957484\n",
       "dtype: float64"
      ]
     },
     "execution_count": 351,
     "metadata": {
      "tags": []
     },
     "output_type": "execute_result"
    }
   ],
   "source": [
    "val.T.mean()"
   ]
  },
  {
   "cell_type": "markdown",
   "metadata": {
    "id": "_fXs9JrWylG2"
   },
   "source": [
    "### Combine DNN and Traditional ML"
   ]
  },
  {
   "cell_type": "markdown",
   "metadata": {
    "id": "VizcYVPI_RRK"
   },
   "source": [
    "Menggunakan CNN + Bi-LSTM sebagai fitur ekstraktor. Sehingga mengabil layer dense sebelum layer dense terakhir sebagai fitur yang akan dipelajari oleh model machine learning tradisional "
   ]
  },
  {
   "cell_type": "code",
   "execution_count": null,
   "metadata": {
    "id": "4WTxjDTB3vAK"
   },
   "outputs": [],
   "source": [
    "inputs = model.layers[0].input\n",
    "outputs = model.layers[-3].output\n",
    "model = Model(inputs, outputs)"
   ]
  },
  {
   "cell_type": "code",
   "execution_count": null,
   "metadata": {
    "id": "gF7XsGI5Nt3g"
   },
   "outputs": [],
   "source": [
    "model_mlbl_feature = model"
   ]
  },
  {
   "cell_type": "code",
   "execution_count": null,
   "metadata": {
    "colab": {
     "base_uri": "https://localhost:8080/"
    },
    "id": "Tc19NWiT4BHC",
    "outputId": "bcf1e15b-4390-4331-8f64-f5f2897f0251"
   },
   "outputs": [
    {
     "name": "stdout",
     "output_type": "stream",
     "text": [
      "Model: \"functional_107\"\n",
      "_________________________________________________________________\n",
      "Layer (type)                 Output Shape              Param #   \n",
      "=================================================================\n",
      "input_49 (InputLayer)        [(None, 30)]              0         \n",
      "_________________________________________________________________\n",
      "embedding_48 (Embedding)     (None, 30, 100)           921600    \n",
      "_________________________________________________________________\n",
      "bidirectional_28 (Bidirectio (None, 30, 100)           60400     \n",
      "_________________________________________________________________\n",
      "reshape_42 (Reshape)         (None, 30, 100, 1)        0         \n",
      "_________________________________________________________________\n",
      "conv2d_42 (Conv2D)           (None, 27, 1, 100)        40100     \n",
      "_________________________________________________________________\n",
      "flatten_42 (Flatten)         (None, 2700)              0         \n",
      "_________________________________________________________________\n",
      "dense_96 (Dense)             (None, 64)                172864    \n",
      "=================================================================\n",
      "Total params: 1,194,964\n",
      "Trainable params: 1,194,964\n",
      "Non-trainable params: 0\n",
      "_________________________________________________________________\n"
     ]
    }
   ],
   "source": [
    "model.summary()"
   ]
  },
  {
   "cell_type": "code",
   "execution_count": null,
   "metadata": {
    "id": "yNmPl_XB40Qy"
   },
   "outputs": [],
   "source": [
    "X_feature_train = model.predict(X_train)\n",
    "X_feature_test = model.predict(X_test)"
   ]
  },
  {
   "cell_type": "markdown",
   "metadata": {
    "id": "vVtFYyci6ZPD"
   },
   "source": [
    "#### XGB"
   ]
  },
  {
   "cell_type": "code",
   "execution_count": null,
   "metadata": {
    "colab": {
     "base_uri": "https://localhost:8080/"
    },
    "id": "7XMAWSbD559U",
    "outputId": "16f0154f-5f84-4674-bc57-9515b573b6a1"
   },
   "outputs": [
    {
     "data": {
      "text/plain": [
       "OneVsRestClassifier(estimator=XGBClassifier(base_score=0.5, booster='gbtree',\n",
       "                                            colsample_bylevel=1,\n",
       "                                            colsample_bynode=1,\n",
       "                                            colsample_bytree=1, gamma=0,\n",
       "                                            learning_rate=0.1, max_delta_step=0,\n",
       "                                            max_depth=3, min_child_weight=1,\n",
       "                                            missing=None, n_estimators=100,\n",
       "                                            n_jobs=1, nthread=None,\n",
       "                                            objective='binary:logistic',\n",
       "                                            random_state=0, reg_alpha=0,\n",
       "                                            reg_lambda=1, scale_pos_weight=1,\n",
       "                                            seed=None, silent=None, subsample=1,\n",
       "                                            verbosity=1),\n",
       "                    n_jobs=None)"
      ]
     },
     "execution_count": 482,
     "metadata": {
      "tags": []
     },
     "output_type": "execute_result"
    }
   ],
   "source": [
    "model = OneVsRestClassifier(xgb.XGBClassifier())\n",
    "model.fit(X_feature_train,y_train)"
   ]
  },
  {
   "cell_type": "code",
   "execution_count": null,
   "metadata": {
    "id": "hMYdjcF06Jbf"
   },
   "outputs": [],
   "source": [
    "X_pred = model.predict(X_feature_test)"
   ]
  },
  {
   "cell_type": "code",
   "execution_count": null,
   "metadata": {
    "colab": {
     "base_uri": "https://localhost:8080/",
     "height": 111
    },
    "id": "nDV1FdxS6RXg",
    "outputId": "51b282a2-cc2c-40c1-cb48-09028aa7d861"
   },
   "outputs": [
    {
     "data": {
      "text/html": [
       "<div>\n",
       "<style scoped>\n",
       "    .dataframe tbody tr th:only-of-type {\n",
       "        vertical-align: middle;\n",
       "    }\n",
       "\n",
       "    .dataframe tbody tr th {\n",
       "        vertical-align: top;\n",
       "    }\n",
       "\n",
       "    .dataframe thead th {\n",
       "        text-align: right;\n",
       "    }\n",
       "</style>\n",
       "<table border=\"1\" class=\"dataframe\">\n",
       "  <thead>\n",
       "    <tr style=\"text-align: right;\">\n",
       "      <th></th>\n",
       "      <th>storm</th>\n",
       "      <th>earthquake</th>\n",
       "      <th>flood</th>\n",
       "      <th>landslide</th>\n",
       "      <th>volcano</th>\n",
       "      <th>fires</th>\n",
       "      <th>collapsed</th>\n",
       "      <th>accident</th>\n",
       "      <th>murder</th>\n",
       "    </tr>\n",
       "  </thead>\n",
       "  <tbody>\n",
       "    <tr>\n",
       "      <th>f1</th>\n",
       "      <td>0.79562</td>\n",
       "      <td>0.702703</td>\n",
       "      <td>0.629213</td>\n",
       "      <td>0.367347</td>\n",
       "      <td>0.444444</td>\n",
       "      <td>0.801802</td>\n",
       "      <td>0.641860</td>\n",
       "      <td>0.705882</td>\n",
       "      <td>0.666667</td>\n",
       "    </tr>\n",
       "    <tr>\n",
       "      <th>acc</th>\n",
       "      <td>0.93154</td>\n",
       "      <td>0.986553</td>\n",
       "      <td>0.959658</td>\n",
       "      <td>0.962103</td>\n",
       "      <td>0.987775</td>\n",
       "      <td>0.946210</td>\n",
       "      <td>0.905868</td>\n",
       "      <td>0.951100</td>\n",
       "      <td>0.966993</td>\n",
       "    </tr>\n",
       "  </tbody>\n",
       "</table>\n",
       "</div>"
      ],
      "text/plain": [
       "       storm  earthquake     flood  ...  collapsed  accident    murder\n",
       "f1   0.79562    0.702703  0.629213  ...   0.641860  0.705882  0.666667\n",
       "acc  0.93154    0.986553  0.959658  ...   0.905868  0.951100  0.966993\n",
       "\n",
       "[2 rows x 9 columns]"
      ]
     },
     "execution_count": 484,
     "metadata": {
      "tags": []
     },
     "output_type": "execute_result"
    }
   ],
   "source": [
    "val = validate(X_pred,y_test)\n",
    "val"
   ]
  },
  {
   "cell_type": "code",
   "execution_count": null,
   "metadata": {
    "colab": {
     "base_uri": "https://localhost:8080/"
    },
    "id": "dyPPPgUp6gt-",
    "outputId": "f93d9050-8ec7-4709-93b6-ecafaf02826b"
   },
   "outputs": [
    {
     "data": {
      "text/plain": [
       "f1     0.639504\n",
       "acc    0.955311\n",
       "dtype: float64"
      ]
     },
     "execution_count": 485,
     "metadata": {
      "tags": []
     },
     "output_type": "execute_result"
    }
   ],
   "source": [
    "val.T.mean()"
   ]
  },
  {
   "cell_type": "markdown",
   "metadata": {
    "id": "7P4xOLBA62ou"
   },
   "source": [
    "#### Logistic Regression"
   ]
  },
  {
   "cell_type": "code",
   "execution_count": null,
   "metadata": {
    "colab": {
     "base_uri": "https://localhost:8080/"
    },
    "id": "beuSP4zM65Vv",
    "outputId": "cceb29b8-4f07-40cd-87c3-d6f998a84b50"
   },
   "outputs": [
    {
     "name": "stderr",
     "output_type": "stream",
     "text": [
      "/usr/local/lib/python3.6/dist-packages/sklearn/linear_model/_logistic.py:940: ConvergenceWarning: lbfgs failed to converge (status=1):\n",
      "STOP: TOTAL NO. of ITERATIONS REACHED LIMIT.\n",
      "\n",
      "Increase the number of iterations (max_iter) or scale the data as shown in:\n",
      "    https://scikit-learn.org/stable/modules/preprocessing.html\n",
      "Please also refer to the documentation for alternative solver options:\n",
      "    https://scikit-learn.org/stable/modules/linear_model.html#logistic-regression\n",
      "  extra_warning_msg=_LOGISTIC_SOLVER_CONVERGENCE_MSG)\n"
     ]
    },
    {
     "data": {
      "text/plain": [
       "OneVsRestClassifier(estimator=LogisticRegression(C=1.0, class_weight=None,\n",
       "                                                 dual=False, fit_intercept=True,\n",
       "                                                 intercept_scaling=1,\n",
       "                                                 l1_ratio=None, max_iter=100,\n",
       "                                                 multi_class='auto',\n",
       "                                                 n_jobs=None, penalty='l2',\n",
       "                                                 random_state=None,\n",
       "                                                 solver='lbfgs', tol=0.0001,\n",
       "                                                 verbose=0, warm_start=False),\n",
       "                    n_jobs=None)"
      ]
     },
     "execution_count": 362,
     "metadata": {
      "tags": []
     },
     "output_type": "execute_result"
    }
   ],
   "source": [
    "model = OneVsRestClassifier(LogisticRegression())\n",
    "model.fit(X_feature_train,y_train)"
   ]
  },
  {
   "cell_type": "code",
   "execution_count": null,
   "metadata": {
    "id": "rk2wB0Ar7CVg"
   },
   "outputs": [],
   "source": [
    "X_pred = model.predict(X_feature_test)"
   ]
  },
  {
   "cell_type": "code",
   "execution_count": null,
   "metadata": {
    "colab": {
     "base_uri": "https://localhost:8080/",
     "height": 111
    },
    "id": "5U2twDY07EC2",
    "outputId": "97271ff1-bd34-44a1-c406-f3b597d2144a"
   },
   "outputs": [
    {
     "data": {
      "text/html": [
       "<div>\n",
       "<style scoped>\n",
       "    .dataframe tbody tr th:only-of-type {\n",
       "        vertical-align: middle;\n",
       "    }\n",
       "\n",
       "    .dataframe tbody tr th {\n",
       "        vertical-align: top;\n",
       "    }\n",
       "\n",
       "    .dataframe thead th {\n",
       "        text-align: right;\n",
       "    }\n",
       "</style>\n",
       "<table border=\"1\" class=\"dataframe\">\n",
       "  <thead>\n",
       "    <tr style=\"text-align: right;\">\n",
       "      <th></th>\n",
       "      <th>storm</th>\n",
       "      <th>earthquake</th>\n",
       "      <th>flood</th>\n",
       "      <th>landslide</th>\n",
       "      <th>volcano</th>\n",
       "      <th>fires</th>\n",
       "      <th>collapsed</th>\n",
       "      <th>accident</th>\n",
       "      <th>murder</th>\n",
       "    </tr>\n",
       "  </thead>\n",
       "  <tbody>\n",
       "    <tr>\n",
       "      <th>f1</th>\n",
       "      <td>0.809859</td>\n",
       "      <td>0.722222</td>\n",
       "      <td>0.562500</td>\n",
       "      <td>0.385965</td>\n",
       "      <td>0.40000</td>\n",
       "      <td>0.824561</td>\n",
       "      <td>0.619048</td>\n",
       "      <td>0.69697</td>\n",
       "      <td>0.675325</td>\n",
       "    </tr>\n",
       "    <tr>\n",
       "      <th>acc</th>\n",
       "      <td>0.933985</td>\n",
       "      <td>0.987775</td>\n",
       "      <td>0.948655</td>\n",
       "      <td>0.957213</td>\n",
       "      <td>0.98533</td>\n",
       "      <td>0.951100</td>\n",
       "      <td>0.902200</td>\n",
       "      <td>0.95110</td>\n",
       "      <td>0.969438</td>\n",
       "    </tr>\n",
       "  </tbody>\n",
       "</table>\n",
       "</div>"
      ],
      "text/plain": [
       "        storm  earthquake     flood  ...  collapsed  accident    murder\n",
       "f1   0.809859    0.722222  0.562500  ...   0.619048   0.69697  0.675325\n",
       "acc  0.933985    0.987775  0.948655  ...   0.902200   0.95110  0.969438\n",
       "\n",
       "[2 rows x 9 columns]"
      ]
     },
     "execution_count": 364,
     "metadata": {
      "tags": []
     },
     "output_type": "execute_result"
    }
   ],
   "source": [
    "val = validate(X_pred,y_test)\n",
    "val"
   ]
  },
  {
   "cell_type": "code",
   "execution_count": null,
   "metadata": {
    "colab": {
     "base_uri": "https://localhost:8080/"
    },
    "id": "YOmsFW2e7FaQ",
    "outputId": "2bf0dbf6-5ecb-4313-b3c7-8a877206a12c"
   },
   "outputs": [
    {
     "data": {
      "text/plain": [
       "f1     0.632939\n",
       "acc    0.954089\n",
       "dtype: float64"
      ]
     },
     "execution_count": 365,
     "metadata": {
      "tags": []
     },
     "output_type": "execute_result"
    }
   ],
   "source": [
    "val.T.mean()"
   ]
  },
  {
   "cell_type": "code",
   "execution_count": null,
   "metadata": {
    "id": "Sqet3fdyTBv_"
   },
   "outputs": [],
   "source": [
    "model_mlbl_pred = model"
   ]
  },
  {
   "cell_type": "markdown",
   "metadata": {
    "id": "3rJ1Mq8rr24U"
   },
   "source": [
    "#### KNN"
   ]
  },
  {
   "cell_type": "code",
   "execution_count": null,
   "metadata": {
    "colab": {
     "base_uri": "https://localhost:8080/"
    },
    "id": "Pp2koblYr24h",
    "outputId": "a9b74327-31f8-41d2-958d-4de8c17a4642"
   },
   "outputs": [
    {
     "data": {
      "text/plain": [
       "OneVsRestClassifier(estimator=KNeighborsClassifier(algorithm='auto',\n",
       "                                                   leaf_size=30,\n",
       "                                                   metric='minkowski',\n",
       "                                                   metric_params=None,\n",
       "                                                   n_jobs=None, n_neighbors=5,\n",
       "                                                   p=2, weights='uniform'),\n",
       "                    n_jobs=None)"
      ]
     },
     "execution_count": 490,
     "metadata": {
      "tags": []
     },
     "output_type": "execute_result"
    }
   ],
   "source": [
    "model = OneVsRestClassifier(neighbors.KNeighborsClassifier())\n",
    "model.fit(X_feature_train,y_train)"
   ]
  },
  {
   "cell_type": "code",
   "execution_count": null,
   "metadata": {
    "id": "P_BVVrhOr247"
   },
   "outputs": [],
   "source": [
    "X_pred = model.predict(X_feature_test)"
   ]
  },
  {
   "cell_type": "code",
   "execution_count": null,
   "metadata": {
    "colab": {
     "base_uri": "https://localhost:8080/",
     "height": 111
    },
    "id": "9ZDo1IQDr25L",
    "outputId": "b214589f-d3b7-4168-f605-7feaee141cae"
   },
   "outputs": [
    {
     "data": {
      "text/html": [
       "<div>\n",
       "<style scoped>\n",
       "    .dataframe tbody tr th:only-of-type {\n",
       "        vertical-align: middle;\n",
       "    }\n",
       "\n",
       "    .dataframe tbody tr th {\n",
       "        vertical-align: top;\n",
       "    }\n",
       "\n",
       "    .dataframe thead th {\n",
       "        text-align: right;\n",
       "    }\n",
       "</style>\n",
       "<table border=\"1\" class=\"dataframe\">\n",
       "  <thead>\n",
       "    <tr style=\"text-align: right;\">\n",
       "      <th></th>\n",
       "      <th>storm</th>\n",
       "      <th>earthquake</th>\n",
       "      <th>flood</th>\n",
       "      <th>landslide</th>\n",
       "      <th>volcano</th>\n",
       "      <th>fires</th>\n",
       "      <th>collapsed</th>\n",
       "      <th>accident</th>\n",
       "      <th>murder</th>\n",
       "    </tr>\n",
       "  </thead>\n",
       "  <tbody>\n",
       "    <tr>\n",
       "      <th>f1</th>\n",
       "      <td>0.784452</td>\n",
       "      <td>0.684211</td>\n",
       "      <td>0.602151</td>\n",
       "      <td>0.272727</td>\n",
       "      <td>0.500000</td>\n",
       "      <td>0.824561</td>\n",
       "      <td>0.650943</td>\n",
       "      <td>0.706767</td>\n",
       "      <td>0.708861</td>\n",
       "    </tr>\n",
       "    <tr>\n",
       "      <th>acc</th>\n",
       "      <td>0.925428</td>\n",
       "      <td>0.985330</td>\n",
       "      <td>0.954768</td>\n",
       "      <td>0.941320</td>\n",
       "      <td>0.987775</td>\n",
       "      <td>0.951100</td>\n",
       "      <td>0.909535</td>\n",
       "      <td>0.952323</td>\n",
       "      <td>0.971883</td>\n",
       "    </tr>\n",
       "  </tbody>\n",
       "</table>\n",
       "</div>"
      ],
      "text/plain": [
       "        storm  earthquake     flood  ...  collapsed  accident    murder\n",
       "f1   0.784452    0.684211  0.602151  ...   0.650943  0.706767  0.708861\n",
       "acc  0.925428    0.985330  0.954768  ...   0.909535  0.952323  0.971883\n",
       "\n",
       "[2 rows x 9 columns]"
      ]
     },
     "execution_count": 492,
     "metadata": {
      "tags": []
     },
     "output_type": "execute_result"
    }
   ],
   "source": [
    "val = validate(X_pred,y_test)\n",
    "val"
   ]
  },
  {
   "cell_type": "code",
   "execution_count": null,
   "metadata": {
    "colab": {
     "base_uri": "https://localhost:8080/"
    },
    "id": "uUCPdTCsr25i",
    "outputId": "23315d15-86d9-4fc5-8fe7-246e79564001"
   },
   "outputs": [
    {
     "data": {
      "text/plain": [
       "f1     0.637186\n",
       "acc    0.953274\n",
       "dtype: float64"
      ]
     },
     "execution_count": 493,
     "metadata": {
      "tags": []
     },
     "output_type": "execute_result"
    }
   ],
   "source": [
    "val.T.mean()"
   ]
  },
  {
   "cell_type": "markdown",
   "metadata": {
    "id": "JEWZwlVx7Q5J"
   },
   "source": [
    "#### LGBMClassifier"
   ]
  },
  {
   "cell_type": "code",
   "execution_count": null,
   "metadata": {
    "id": "S3ZsS9sn7Vbu"
   },
   "outputs": [],
   "source": [
    "model = OneVsRestClassifier(lgb.LGBMClassifier())\n",
    "model.fit(X_feature_train,y_train)\n",
    "X_pred = model.predict(X_feature_test)"
   ]
  },
  {
   "cell_type": "code",
   "execution_count": null,
   "metadata": {
    "colab": {
     "base_uri": "https://localhost:8080/",
     "height": 111
    },
    "id": "o18kFKmx7cVe",
    "outputId": "7555bccb-3a0a-4d2d-d05c-c8c29c7c1403"
   },
   "outputs": [
    {
     "data": {
      "text/html": [
       "<div>\n",
       "<style scoped>\n",
       "    .dataframe tbody tr th:only-of-type {\n",
       "        vertical-align: middle;\n",
       "    }\n",
       "\n",
       "    .dataframe tbody tr th {\n",
       "        vertical-align: top;\n",
       "    }\n",
       "\n",
       "    .dataframe thead th {\n",
       "        text-align: right;\n",
       "    }\n",
       "</style>\n",
       "<table border=\"1\" class=\"dataframe\">\n",
       "  <thead>\n",
       "    <tr style=\"text-align: right;\">\n",
       "      <th></th>\n",
       "      <th>storm</th>\n",
       "      <th>earthquake</th>\n",
       "      <th>flood</th>\n",
       "      <th>landslide</th>\n",
       "      <th>volcano</th>\n",
       "      <th>fires</th>\n",
       "      <th>collapsed</th>\n",
       "      <th>accident</th>\n",
       "      <th>murder</th>\n",
       "    </tr>\n",
       "  </thead>\n",
       "  <tbody>\n",
       "    <tr>\n",
       "      <th>f1</th>\n",
       "      <td>0.790036</td>\n",
       "      <td>0.717949</td>\n",
       "      <td>0.617021</td>\n",
       "      <td>0.392857</td>\n",
       "      <td>0.444444</td>\n",
       "      <td>0.817391</td>\n",
       "      <td>0.632558</td>\n",
       "      <td>0.700000</td>\n",
       "      <td>0.666667</td>\n",
       "    </tr>\n",
       "    <tr>\n",
       "      <th>acc</th>\n",
       "      <td>0.927873</td>\n",
       "      <td>0.986553</td>\n",
       "      <td>0.955990</td>\n",
       "      <td>0.958435</td>\n",
       "      <td>0.987775</td>\n",
       "      <td>0.948655</td>\n",
       "      <td>0.903423</td>\n",
       "      <td>0.948655</td>\n",
       "      <td>0.966993</td>\n",
       "    </tr>\n",
       "  </tbody>\n",
       "</table>\n",
       "</div>"
      ],
      "text/plain": [
       "        storm  earthquake     flood  ...  collapsed  accident    murder\n",
       "f1   0.790036    0.717949  0.617021  ...   0.632558  0.700000  0.666667\n",
       "acc  0.927873    0.986553  0.955990  ...   0.903423  0.948655  0.966993\n",
       "\n",
       "[2 rows x 9 columns]"
      ]
     },
     "execution_count": 495,
     "metadata": {
      "tags": []
     },
     "output_type": "execute_result"
    }
   ],
   "source": [
    "val = validate(X_pred,y_test)\n",
    "val"
   ]
  },
  {
   "cell_type": "code",
   "execution_count": null,
   "metadata": {
    "colab": {
     "base_uri": "https://localhost:8080/"
    },
    "id": "PC7jN97G7fEI",
    "outputId": "f28c5a26-34d9-4ae2-fd80-8392b9ed4854"
   },
   "outputs": [
    {
     "data": {
      "text/plain": [
       "f1     0.642103\n",
       "acc    0.953817\n",
       "dtype: float64"
      ]
     },
     "execution_count": 496,
     "metadata": {
      "tags": []
     },
     "output_type": "execute_result"
    }
   ],
   "source": [
    "val.T.mean()"
   ]
  },
  {
   "cell_type": "markdown",
   "metadata": {
    "id": "UA0UrDPAsSWt"
   },
   "source": [
    "#### BernoulliNB"
   ]
  },
  {
   "cell_type": "code",
   "execution_count": null,
   "metadata": {
    "id": "CpawyBOpsSWx"
   },
   "outputs": [],
   "source": [
    "model = OneVsRestClassifier(BernoulliNB())\n",
    "model.fit(X_feature_train,y_train)\n",
    "X_pred = model.predict(X_feature_test)"
   ]
  },
  {
   "cell_type": "code",
   "execution_count": null,
   "metadata": {
    "colab": {
     "base_uri": "https://localhost:8080/",
     "height": 111
    },
    "id": "mDJQHq2UsSXI",
    "outputId": "4ef424a1-585b-42ed-ae25-055249f0bc19"
   },
   "outputs": [
    {
     "data": {
      "text/html": [
       "<div>\n",
       "<style scoped>\n",
       "    .dataframe tbody tr th:only-of-type {\n",
       "        vertical-align: middle;\n",
       "    }\n",
       "\n",
       "    .dataframe tbody tr th {\n",
       "        vertical-align: top;\n",
       "    }\n",
       "\n",
       "    .dataframe thead th {\n",
       "        text-align: right;\n",
       "    }\n",
       "</style>\n",
       "<table border=\"1\" class=\"dataframe\">\n",
       "  <thead>\n",
       "    <tr style=\"text-align: right;\">\n",
       "      <th></th>\n",
       "      <th>storm</th>\n",
       "      <th>earthquake</th>\n",
       "      <th>flood</th>\n",
       "      <th>landslide</th>\n",
       "      <th>volcano</th>\n",
       "      <th>fires</th>\n",
       "      <th>collapsed</th>\n",
       "      <th>accident</th>\n",
       "      <th>murder</th>\n",
       "    </tr>\n",
       "  </thead>\n",
       "  <tbody>\n",
       "    <tr>\n",
       "      <th>f1</th>\n",
       "      <td>0.762887</td>\n",
       "      <td>0.666667</td>\n",
       "      <td>0.568807</td>\n",
       "      <td>0.342857</td>\n",
       "      <td>0.434783</td>\n",
       "      <td>0.809091</td>\n",
       "      <td>0.636364</td>\n",
       "      <td>0.641791</td>\n",
       "      <td>0.658537</td>\n",
       "    </tr>\n",
       "    <tr>\n",
       "      <th>acc</th>\n",
       "      <td>0.915648</td>\n",
       "      <td>0.982885</td>\n",
       "      <td>0.942543</td>\n",
       "      <td>0.943765</td>\n",
       "      <td>0.984108</td>\n",
       "      <td>0.948655</td>\n",
       "      <td>0.902200</td>\n",
       "      <td>0.941320</td>\n",
       "      <td>0.965770</td>\n",
       "    </tr>\n",
       "  </tbody>\n",
       "</table>\n",
       "</div>"
      ],
      "text/plain": [
       "        storm  earthquake     flood  ...  collapsed  accident    murder\n",
       "f1   0.762887    0.666667  0.568807  ...   0.636364  0.641791  0.658537\n",
       "acc  0.915648    0.982885  0.942543  ...   0.902200  0.941320  0.965770\n",
       "\n",
       "[2 rows x 9 columns]"
      ]
     },
     "execution_count": 498,
     "metadata": {
      "tags": []
     },
     "output_type": "execute_result"
    }
   ],
   "source": [
    "val = validate(X_pred,y_test)\n",
    "val"
   ]
  },
  {
   "cell_type": "code",
   "execution_count": null,
   "metadata": {
    "colab": {
     "base_uri": "https://localhost:8080/"
    },
    "id": "pP8A5lIgsSXY",
    "outputId": "8e8fc684-9763-4ea3-f9b5-10e85963e15c"
   },
   "outputs": [
    {
     "data": {
      "text/plain": [
       "f1     0.613531\n",
       "acc    0.947433\n",
       "dtype: float64"
      ]
     },
     "execution_count": 499,
     "metadata": {
      "tags": []
     },
     "output_type": "execute_result"
    }
   ],
   "source": [
    "val.T.mean()"
   ]
  },
  {
   "cell_type": "markdown",
   "metadata": {
    "id": "KgeyKzdRtzg5"
   },
   "source": [
    "#### Stacking"
   ]
  },
  {
   "cell_type": "markdown",
   "metadata": {
    "id": "7xyKJsDz_JBt"
   },
   "source": [
    "Stacking beberapa model machine learning"
   ]
  },
  {
   "cell_type": "code",
   "execution_count": null,
   "metadata": {
    "id": "l4Igo810t0wh"
   },
   "outputs": [],
   "source": [
    "def EnsamblePredict(X,y,test,models,split=3):\n",
    "  test_id = []\n",
    "  skf = MultilabelStratifiedKFold(n_splits=split,random_state=99)\n",
    "  all_pred = pd.DataFrame()\n",
    "  for train_index, test_index in skf.split(X, y):\n",
    "    X_train, X_test = X[train_index], X[test_index]\n",
    "    y_train, y_test = y[train_index], y[test_index]\n",
    "    test_id = test_id + list(test_index)\n",
    "    i = 0\n",
    "    pred = pd.DataFrame()\n",
    "    for name,curr_model in models :\n",
    "      curr_model = OneVsRestClassifier(curr_model)\n",
    "      curr_model.fit(X_train,y_train)\n",
    "      pred = pd.concat([pred,pd.DataFrame(curr_model.predict_proba(X_test))],axis=1)\n",
    "      i+=1\n",
    "    all_pred = pd.concat([all_pred,pred],axis=0).reset_index(drop=True)\n",
    "  test_pred = pd.DataFrame()\n",
    "  for name,curr_model in models :\n",
    "      curr_model = OneVsRestClassifier(curr_model)\n",
    "      curr_model.fit(X,y)\n",
    "      test_pred = pd.concat([test_pred,pd.DataFrame(curr_model.predict_proba(test))],axis=1)\n",
    "  return test_id,all_pred,test_pred"
   ]
  },
  {
   "cell_type": "code",
   "execution_count": 7,
   "metadata": {
    "id": "9wsxeK5qvJRC"
   },
   "outputs": [],
   "source": [
    "models = [\n",
    "      ['LogisticRegression', LogisticRegression()],\n",
    "      ['BernoulliNB', BernoulliNB()],\n",
    "      # ['LinearDiscriminantAnalysis',LinearDiscriminantAnalysis(solver='svd')],\n",
    "      # ['XGBClassifier', xgb.XGBClassifier(verbose=False)],\n",
    "      ['LGBMClassifier', lgb.LGBMClassifier()],\n",
    "      ['KNeighborsClassifier', neighbors.KNeighborsClassifier()],\n",
    "    ]"
   ]
  },
  {
   "cell_type": "code",
   "execution_count": null,
   "metadata": {
    "colab": {
     "base_uri": "https://localhost:8080/"
    },
    "id": "GCbukoQyv8We",
    "outputId": "0d7d2b3b-a76b-4be5-a1d5-fcad96aaf353"
   },
   "outputs": [
    {
     "name": "stderr",
     "output_type": "stream",
     "text": [
      "/usr/local/lib/python3.6/dist-packages/sklearn/model_selection/_split.py:296: FutureWarning: Setting a random_state has no effect since shuffle is False. This will raise an error in 0.24. You should leave random_state to its default (None), or set shuffle=True.\n",
      "  FutureWarning\n",
      "/usr/local/lib/python3.6/dist-packages/sklearn/linear_model/_logistic.py:940: ConvergenceWarning: lbfgs failed to converge (status=1):\n",
      "STOP: TOTAL NO. of ITERATIONS REACHED LIMIT.\n",
      "\n",
      "Increase the number of iterations (max_iter) or scale the data as shown in:\n",
      "    https://scikit-learn.org/stable/modules/preprocessing.html\n",
      "Please also refer to the documentation for alternative solver options:\n",
      "    https://scikit-learn.org/stable/modules/linear_model.html#logistic-regression\n",
      "  extra_warning_msg=_LOGISTIC_SOLVER_CONVERGENCE_MSG)\n"
     ]
    }
   ],
   "source": [
    "id,pred,pred_test = EnsamblePredict(X_feature_train,y_train,X_feature_test,models,4)"
   ]
  },
  {
   "cell_type": "code",
   "execution_count": null,
   "metadata": {
    "id": "Va8CNNWe2_pH"
   },
   "outputs": [],
   "source": [
    "ftr = pred.values\n",
    "ftr_test = pred_test.values"
   ]
  },
  {
   "cell_type": "code",
   "execution_count": null,
   "metadata": {
    "colab": {
     "base_uri": "https://localhost:8080/"
    },
    "id": "Ys-V0TRQyR50",
    "outputId": "3b1e21d3-6a7b-46bf-c6b4-0acf87607513"
   },
   "outputs": [
    {
     "data": {
      "text/plain": [
       "OneVsRestClassifier(estimator=XGBClassifier(base_score=0.5, booster='gbtree',\n",
       "                                            colsample_bylevel=1,\n",
       "                                            colsample_bynode=1,\n",
       "                                            colsample_bytree=1, gamma=0,\n",
       "                                            learning_rate=0.1, max_delta_step=0,\n",
       "                                            max_depth=3, min_child_weight=1,\n",
       "                                            missing=None, n_estimators=100,\n",
       "                                            n_jobs=1, nthread=None,\n",
       "                                            objective='binary:logistic',\n",
       "                                            random_state=0, reg_alpha=0,\n",
       "                                            reg_lambda=1, scale_pos_weight=1,\n",
       "                                            seed=None, silent=None, subsample=1,\n",
       "                                            verbosity=1),\n",
       "                    n_jobs=None)"
      ]
     },
     "execution_count": 538,
     "metadata": {
      "tags": []
     },
     "output_type": "execute_result"
    }
   ],
   "source": [
    "model = OneVsRestClassifier(xgb.XGBClassifier())\n",
    "model.fit(ftr,y_train[id,:])"
   ]
  },
  {
   "cell_type": "code",
   "execution_count": null,
   "metadata": {
    "id": "6RN4ag6ayR6F"
   },
   "outputs": [],
   "source": [
    "X_pred = model.predict(ftr_test)"
   ]
  },
  {
   "cell_type": "code",
   "execution_count": null,
   "metadata": {
    "colab": {
     "base_uri": "https://localhost:8080/",
     "height": 111
    },
    "id": "ox4ndUz8yR6S",
    "outputId": "b6af4f2c-805b-41a6-e469-091ab0b0cc70"
   },
   "outputs": [
    {
     "data": {
      "text/html": [
       "<div>\n",
       "<style scoped>\n",
       "    .dataframe tbody tr th:only-of-type {\n",
       "        vertical-align: middle;\n",
       "    }\n",
       "\n",
       "    .dataframe tbody tr th {\n",
       "        vertical-align: top;\n",
       "    }\n",
       "\n",
       "    .dataframe thead th {\n",
       "        text-align: right;\n",
       "    }\n",
       "</style>\n",
       "<table border=\"1\" class=\"dataframe\">\n",
       "  <thead>\n",
       "    <tr style=\"text-align: right;\">\n",
       "      <th></th>\n",
       "      <th>storm</th>\n",
       "      <th>earthquake</th>\n",
       "      <th>flood</th>\n",
       "      <th>landslide</th>\n",
       "      <th>volcano</th>\n",
       "      <th>fires</th>\n",
       "      <th>collapsed</th>\n",
       "      <th>accident</th>\n",
       "      <th>murder</th>\n",
       "    </tr>\n",
       "  </thead>\n",
       "  <tbody>\n",
       "    <tr>\n",
       "      <th>f1</th>\n",
       "      <td>0.788732</td>\n",
       "      <td>0.717949</td>\n",
       "      <td>0.632653</td>\n",
       "      <td>0.346154</td>\n",
       "      <td>0.636364</td>\n",
       "      <td>0.818182</td>\n",
       "      <td>0.645740</td>\n",
       "      <td>0.710526</td>\n",
       "      <td>0.691358</td>\n",
       "    </tr>\n",
       "    <tr>\n",
       "      <th>acc</th>\n",
       "      <td>0.926650</td>\n",
       "      <td>0.986553</td>\n",
       "      <td>0.955990</td>\n",
       "      <td>0.958435</td>\n",
       "      <td>0.990220</td>\n",
       "      <td>0.946210</td>\n",
       "      <td>0.903423</td>\n",
       "      <td>0.946210</td>\n",
       "      <td>0.969438</td>\n",
       "    </tr>\n",
       "  </tbody>\n",
       "</table>\n",
       "</div>"
      ],
      "text/plain": [
       "        storm  earthquake     flood  ...  collapsed  accident    murder\n",
       "f1   0.788732    0.717949  0.632653  ...   0.645740  0.710526  0.691358\n",
       "acc  0.926650    0.986553  0.955990  ...   0.903423  0.946210  0.969438\n",
       "\n",
       "[2 rows x 9 columns]"
      ]
     },
     "execution_count": 540,
     "metadata": {
      "tags": []
     },
     "output_type": "execute_result"
    }
   ],
   "source": [
    "val = validate(X_pred,y_test)\n",
    "val"
   ]
  },
  {
   "cell_type": "code",
   "execution_count": null,
   "metadata": {
    "colab": {
     "base_uri": "https://localhost:8080/"
    },
    "id": "Shs_qapjyR6g",
    "outputId": "e1a6c257-877f-41bd-e6bc-0be95f8d6477"
   },
   "outputs": [
    {
     "data": {
      "text/plain": [
       "f1     0.665295\n",
       "acc    0.953681\n",
       "dtype: float64"
      ]
     },
     "execution_count": 541,
     "metadata": {
      "tags": []
     },
     "output_type": "execute_result"
    }
   ],
   "source": [
    "val.T.mean()"
   ]
  }
 ],
 "metadata": {
  "accelerator": "GPU",
  "colab": {
   "collapsed_sections": [],
   "name": "Salinan dari NLP.ipynb",
   "provenance": [],
   "toc_visible": true
  },
  "kernelspec": {
   "display_name": "Python 3",
   "language": "python",
   "name": "python3"
  },
  "language_info": {
   "codemirror_mode": {
    "name": "ipython",
    "version": 3
   },
   "file_extension": ".py",
   "mimetype": "text/x-python",
   "name": "python",
   "nbconvert_exporter": "python",
   "pygments_lexer": "ipython3",
   "version": "3.6.5"
  }
 },
 "nbformat": 4,
 "nbformat_minor": 1
}
